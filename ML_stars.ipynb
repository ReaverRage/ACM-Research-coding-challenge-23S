{
  "nbformat": 4,
  "nbformat_minor": 0,
  "metadata": {
    "colab": {
      "provenance": [],
      "authorship_tag": "ABX9TyNmV0zXUxwbTOUmRkfOn6oq",
      "include_colab_link": true
    },
    "kernelspec": {
      "name": "python3",
      "display_name": "Python 3"
    },
    "language_info": {
      "name": "python"
    }
  },
  "cells": [
    {
      "cell_type": "markdown",
      "metadata": {
        "id": "view-in-github",
        "colab_type": "text"
      },
      "source": [
        "<a href=\"https://colab.research.google.com/github/ReaverRage/ACM-Research-coding-challenge-23S/blob/main/ML_stars.ipynb\" target=\"_parent\"><img src=\"https://colab.research.google.com/assets/colab-badge.svg\" alt=\"Open In Colab\"/></a>"
      ]
    },
    {
      "cell_type": "code",
      "source": [
        "def main():\n",
        "    import pandas as pd\n",
        "    from sklearn.tree import DecisionTreeClassifier\n",
        "    from sklearn.model_selection import train_test_split\n",
        "    from sklearn.metrics import accuracy_score\n",
        "\n",
        "    star_data = pd.read_csv('stars.csv')\n",
        "    # Star color column: Strings to integers\n",
        "    # Red is the lowest, blue is the highest. Intermediary values are mapped as such.\n",
        "    color_map = {'red': 0, 'orange-red': 1, 'blue white': 1, 'orange': 2, 'pale yellow orange': 3, 'yellowish': 4,\n",
        "                 'yellow-white': 5, 'yellowish white': 6, 'white-yellow': 7, 'whitish': 8, 'white': 9, 'blue-white': 10,\n",
        "                 'blue': 11}\n",
        "    colors = list(star_data['Star color'])\n",
        "    for i in range(len(colors)):\n",
        "        colors[i] = color_map[colors[i].lower().strip()]\n",
        "    star_data.drop(['Star color'], axis=1)\n",
        "    star_data['Star color'] = colors\n",
        "\n",
        "    # Spectral Class column: Chars to integers\n",
        "    classes = list(star_data['Spectral Class'])\n",
        "    for i in range(len(classes)):\n",
        "        temp = list()\n",
        "        temp.extend(classes[i])\n",
        "        classes[i] = ord(temp[0])\n",
        "    star_data.drop(['Spectral Class'], axis=1)\n",
        "    star_data['Spectral Class'] = classes\n",
        "\n",
        "    # Train and test 30 times and take average accuracy\n",
        "    x = star_data.drop(columns=['Star type'])\n",
        "    y = star_data['Star type']\n",
        "    score = 0.0\n",
        "    for i in range(30):\n",
        "        x_train, x_test, y_train, y_test = train_test_split(x, y, test_size=0.2)\n",
        "        model = DecisionTreeClassifier()\n",
        "        model.fit(x_train, y_train)\n",
        "        predictions = model.predict(x_test)\n",
        "        score += accuracy_score(y_test, predictions)\n",
        "    print(score/30.0)\n",
        "\n",
        "\n",
        "if __name__ == '__main__':\n",
        "    main()\n"
      ],
      "metadata": {
        "colab": {
          "base_uri": "https://localhost:8080/"
        },
        "id": "tl_sYZwUYnfc",
        "outputId": "3f216ac1-3194-4555-f606-824393d5f113"
      },
      "execution_count": 36,
      "outputs": [
        {
          "output_type": "stream",
          "name": "stdout",
          "text": [
            "0.9958333333333333\n"
          ]
        }
      ]
    }
  ]
}